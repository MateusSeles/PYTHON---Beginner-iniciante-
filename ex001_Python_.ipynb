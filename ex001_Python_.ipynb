{
  "nbformat": 4,
  "nbformat_minor": 0,
  "metadata": {
    "colab": {
      "provenance": [],
      "toc_visible": true,
      "authorship_tag": "ABX9TyOfMcxcwIkU/tRp8bzKDQS4",
      "include_colab_link": true
    },
    "kernelspec": {
      "name": "python3",
      "display_name": "Python 3"
    },
    "language_info": {
      "name": "python"
    }
  },
  "cells": [
    {
      "cell_type": "markdown",
      "metadata": {
        "id": "view-in-github",
        "colab_type": "text"
      },
      "source": [
        "<a href=\"https://colab.research.google.com/github/MateusSeles/PYTHON---Beginner-iniciante-/blob/main/ex001_Python_.ipynb\" target=\"_parent\"><img src=\"https://colab.research.google.com/assets/colab-badge.svg\" alt=\"Open In Colab\"/></a>"
      ]
    },
    {
      "cell_type": "markdown",
      "source": [
        "# Exercício 1 - Python  \n"
      ],
      "metadata": {
        "id": "RZaqQfbVuSVn"
      }
    },
    {
      "cell_type": "markdown",
      "source": [
        "Desenvolva um código que mostre na tela : Olá, mundo!!"
      ],
      "metadata": {
        "id": "u7EhHHBXucTs"
      }
    },
    {
      "cell_type": "markdown",
      "source": [
        "# Existem duas maneiras de mostrar essa mensagem:"
      ],
      "metadata": {
        "id": "4M4kMeQFu3mK"
      }
    },
    {
      "cell_type": "markdown",
      "source": [
        "A primeira maneira, é utilizando a função print, que significa imprimir na tela, aquilo que o Desenvolvedor deseja. Vai ficar assim! print('Olá mundo'). Vamos testar ? "
      ],
      "metadata": {
        "id": "lwhtUjrWu5zc"
      }
    },
    {
      "cell_type": "code",
      "source": [
        "print('Olá, mundo!')"
      ],
      "metadata": {
        "colab": {
          "base_uri": "https://localhost:8080/"
        },
        "id": "VJoJCwQQvRdk",
        "outputId": "d84c0e07-c5ef-4d36-e9a3-86f088848fb7"
      },
      "execution_count": 1,
      "outputs": [
        {
          "output_type": "stream",
          "name": "stdout",
          "text": [
            "Olá, mundo!\n"
          ]
        }
      ]
    },
    {
      "cell_type": "markdown",
      "source": [
        "A segunda maneira, é criando uma variável str, que significa Strings ( São conjuntos de caracteres de texto ) e definindo a frase que aquela variável vai receber."
      ],
      "metadata": {
        "id": "53zasFF2vs8K"
      }
    },
    {
      "cell_type": "markdown",
      "source": [
        "Posso nomear a variável de qualquer coisa, mas para melhor compreensão, vou defini-la como frase."
      ],
      "metadata": {
        "id": "cKDs800ywT0k"
      }
    },
    {
      "cell_type": "code",
      "source": [
        "frase = str('Olá, mundo!')"
      ],
      "metadata": {
        "id": "sQuxrpHRwR3V"
      },
      "execution_count": 2,
      "outputs": []
    },
    {
      "cell_type": "code",
      "source": [
        "print(frase)"
      ],
      "metadata": {
        "colab": {
          "base_uri": "https://localhost:8080/"
        },
        "id": "TCnaqcenwe91",
        "outputId": "b34c4a93-0129-4e4e-e8c4-fe50ef7752bb"
      },
      "execution_count": 3,
      "outputs": [
        {
          "output_type": "stream",
          "name": "stdout",
          "text": [
            "Olá, mundo!\n"
          ]
        }
      ]
    },
    {
      "cell_type": "markdown",
      "source": [
        "# Exercise 1 - Python"
      ],
      "metadata": {
        "id": "lUfuaG47w67-"
      }
    },
    {
      "cell_type": "markdown",
      "source": [
        "Develop code that displays on the screen: Hello world!!"
      ],
      "metadata": {
        "id": "xZ7MeGDRxCgI"
      }
    },
    {
      "cell_type": "markdown",
      "source": [
        "# There are two ways to show this message:"
      ],
      "metadata": {
        "id": "PHQvm4-1xNSt"
      }
    },
    {
      "cell_type": "markdown",
      "source": [],
      "metadata": {
        "id": "tHUbIn2jxrSN"
      }
    },
    {
      "cell_type": "markdown",
      "source": [
        "\n",
        "The first way is using the print function, which means printing on the screen what the Developer wants. It will stay like this! print('Hello World'). Lets test ?"
      ],
      "metadata": {
        "id": "jvNkhh0WxfQ_"
      }
    },
    {
      "cell_type": "code",
      "source": [
        "print('Hello World')"
      ],
      "metadata": {
        "colab": {
          "base_uri": "https://localhost:8080/"
        },
        "id": "7yElxQPIxmIW",
        "outputId": "d8b2b53d-1265-45b8-c151-9051b08e2c7f"
      },
      "execution_count": 4,
      "outputs": [
        {
          "output_type": "stream",
          "name": "stdout",
          "text": [
            "Hello World\n"
          ]
        }
      ]
    },
    {
      "cell_type": "markdown",
      "source": [
        "The second way is by creating a variable str, which means Strings (They are sets of text characters) and defining the phrase that variable will receive."
      ],
      "metadata": {
        "id": "teqYaN1yxxSY"
      }
    },
    {
      "cell_type": "markdown",
      "source": [
        "I can name the variable anything but for better understanding I will define it as \"phrase\"."
      ],
      "metadata": {
        "id": "5BKDWHMAx2m7"
      }
    },
    {
      "cell_type": "code",
      "source": [
        "phrase = str('Hello World')"
      ],
      "metadata": {
        "id": "3zvFjS4eyKWA"
      },
      "execution_count": 5,
      "outputs": []
    },
    {
      "cell_type": "code",
      "source": [
        "print(phrase)"
      ],
      "metadata": {
        "colab": {
          "base_uri": "https://localhost:8080/"
        },
        "id": "R-WjW_w_yOmU",
        "outputId": "c711b44a-0c0a-4158-faab-55e9ca5c4a68"
      },
      "execution_count": 6,
      "outputs": [
        {
          "output_type": "stream",
          "name": "stdout",
          "text": [
            "Hello World\n"
          ]
        }
      ]
    }
  ]
}